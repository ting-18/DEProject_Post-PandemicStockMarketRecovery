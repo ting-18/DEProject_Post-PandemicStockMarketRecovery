{
 "cells": [
  {
   "cell_type": "markdown",
   "metadata": {},
   "source": [
    "import pandas as pd\n",
    "import time"
   ]
  },
  {
   "cell_type": "code",
   "execution_count": 32,
   "metadata": {},
   "outputs": [
    {
     "data": {
      "text/plain": [
       "['MMM', 'AOS', 'ABT', 'ABBV', 'ACN', 'ADBE', 'AMD', 'AES', 'AFL', 'A']"
      ]
     },
     "execution_count": 32,
     "metadata": {},
     "output_type": "execute_result"
    }
   ],
   "source": [
    "# Load S&P 500 tickers from Wikipedia\n",
    "sp500_url = 'https://en.wikipedia.org/wiki/List_of_S%26P_500_companies'\n",
    "sp500_table = pd.read_html(sp500_url)[0]\n",
    "tickers = sp500_table['Symbol'].tolist()\n",
    "tickers[:10]"
   ]
  },
  {
   "cell_type": "code",
   "execution_count": 7,
   "metadata": {},
   "outputs": [],
   "source": [
    "# Collect info\n",
    "##The **YFRateLimitError** will happen because Yahoo Finance limits the number\n",
    "##of API requests you can make in a short period. This is common when looping \n",
    "##over many tickers, like the S&P 500, and fetching .info data (which hits \n",
    "##the API separately for each ticker).\n",
    "data = []\n",
    "for ticker_symbol in tickers:\n",
    "    success = False\n",
    "    retries = 10\n",
    "    while not success and retries > 0:\n",
    "        try:\n",
    "            ticker = yf.Ticker(ticker_symbol)\n",
    "            info = ticker.info\n",
    "            data.append({\n",
    "                'ticker': ticker_symbol,\n",
    "                'company_name': info.get('longName', 'N/A'),\n",
    "                'sector': info.get('sectorKey', 'N/A'),\n",
    "                'industry': info.get('industry', 'N/A'),\n",
    "                'market_cap': info.get('marketCap', 'N/A'),\n",
    "                'country': info.get('country', 'N/A')\n",
    "            })\n",
    "            success = True\n",
    "        except Exception as e:\n",
    "            print(f\"Error for {ticker_symbol}: {e}\")\n",
    "            retries -= 1\n",
    "            time.sleep(5)"
   ]
  },
  {
   "cell_type": "code",
   "execution_count": 10,
   "metadata": {},
   "outputs": [
    {
     "data": {
      "text/plain": [
       "(503, 6)"
      ]
     },
     "execution_count": 10,
     "metadata": {},
     "output_type": "execute_result"
    }
   ],
   "source": [
    "# Save to CSV\n",
    "df = pd.DataFrame(data)\n",
    "df.shape\n",
    "# the index contains 503 stocks because it includes two share classes of stock from 3 of its component companies"
   ]
  },
  {
   "cell_type": "code",
   "execution_count": 11,
   "metadata": {},
   "outputs": [],
   "source": [
    "df.to_csv('sp500_stock_info.csv', index=False)\n"
   ]
  },
  {
   "cell_type": "code",
   "execution_count": null,
   "metadata": {},
   "outputs": [],
   "source": []
  },
  {
   "cell_type": "code",
   "execution_count": 12,
   "metadata": {},
   "outputs": [
    {
     "data": {
      "text/plain": [
       "['MMM', 'AOS', 'ABT', 'ABBV', 'ACN', 'ADBE', 'AMD', 'AES', 'AFL', 'A']"
      ]
     },
     "execution_count": 12,
     "metadata": {},
     "output_type": "execute_result"
    }
   ],
   "source": [
    "# Load Nasdaq-100 tickers from Wikipedia\n",
    "nasdaq100_url = 'https://en.wikipedia.org/wiki/Nasdaq-100'\n",
    "nasdaq100_table = pd.read_html(nasdaq100_url)[4]\n",
    "nasdaq100_tickers = nasdaq100_table['Symbol'].tolist()\n",
    "\n",
    "tickers[:10]"
   ]
  },
  {
   "cell_type": "code",
   "execution_count": 13,
   "metadata": {},
   "outputs": [],
   "source": [
    "# Collect info\n",
    "data = []\n",
    "for ticker_symbol in nasdaq100_tickers:\n",
    "    ticker = yf.Ticker(ticker_symbol)\n",
    "    info = ticker.info\n",
    "    data.append({\n",
    "        'ticker': ticker_symbol,\n",
    "        'company_name': info.get('longName', 'N/A'),\n",
    "        'sector': info.get('sectorKey', 'N/A'),\n",
    "        'industry': info.get('industry', 'N/A'),\n",
    "        'market_cap': info.get('marketCap', 'N/A'),\n",
    "        'country': info.get('country', 'N/A')\n",
    "    })\n"
   ]
  },
  {
   "cell_type": "code",
   "execution_count": 15,
   "metadata": {},
   "outputs": [
    {
     "data": {
      "text/plain": [
       "(101, 6)"
      ]
     },
     "execution_count": 15,
     "metadata": {},
     "output_type": "execute_result"
    }
   ],
   "source": [
    "df_nasdaq = pd.DataFrame(data)\n",
    "df_nasdaq.shape"
   ]
  },
  {
   "cell_type": "code",
   "execution_count": 16,
   "metadata": {},
   "outputs": [],
   "source": [
    "df_nasdaq.to_csv('nasdaq100_stock_info.csv', index=False)"
   ]
  },
  {
   "cell_type": "code",
   "execution_count": null,
   "metadata": {},
   "outputs": [],
   "source": []
  },
  {
   "cell_type": "code",
   "execution_count": 18,
   "metadata": {},
   "outputs": [],
   "source": [
    "# Load dowjones30 tickers from Wikipedia\n",
    "dowjones30_url = 'https://en.wikipedia.org/wiki/Dow_Jones_Industrial_Average'\n",
    "dowjones30_table = pd.read_html(dowjones30_url)[2]\n",
    "dowjones30_tickers = dowjones30_table['Symbol'].tolist()\n"
   ]
  },
  {
   "cell_type": "code",
   "execution_count": 19,
   "metadata": {},
   "outputs": [],
   "source": [
    "# Collect info\n",
    "dowjones30_data = []\n",
    "for ticker_symbol in dowjones30_tickers:\n",
    "    ticker = yf.Ticker(ticker_symbol)\n",
    "    info = ticker.info\n",
    "    dowjones30_data.append({\n",
    "        'ticker': ticker_symbol,\n",
    "        'company_name': info.get('longName', 'N/A'),\n",
    "        'sector': info.get('sectorKey', 'N/A'),\n",
    "        'industry': info.get('industry', 'N/A'),\n",
    "        'market_cap': info.get('marketCap', 'N/A'),\n",
    "        'country': info.get('country', 'N/A')\n",
    "    })"
   ]
  },
  {
   "cell_type": "code",
   "execution_count": 20,
   "metadata": {},
   "outputs": [
    {
     "data": {
      "text/plain": [
       "(30, 6)"
      ]
     },
     "execution_count": 20,
     "metadata": {},
     "output_type": "execute_result"
    }
   ],
   "source": [
    "df_dowjones30 = pd.DataFrame(dowjones30_data)\n",
    "df_dowjones30.shape"
   ]
  },
  {
   "cell_type": "code",
   "execution_count": 21,
   "metadata": {},
   "outputs": [],
   "source": [
    "df_dowjones30.to_csv('dowjones30_stock_info.csv', index=False)"
   ]
  },
  {
   "cell_type": "code",
   "execution_count": null,
   "metadata": {},
   "outputs": [],
   "source": []
  }
 ],
 "metadata": {
  "kernelspec": {
   "display_name": "Python 3 (ipykernel)",
   "language": "python",
   "name": "python3"
  },
  "language_info": {
   "codemirror_mode": {
    "name": "ipython",
    "version": 3
   },
   "file_extension": ".py",
   "mimetype": "text/x-python",
   "name": "python",
   "nbconvert_exporter": "python",
   "pygments_lexer": "ipython3",
   "version": "3.12.7"
  }
 },
 "nbformat": 4,
 "nbformat_minor": 4
}
